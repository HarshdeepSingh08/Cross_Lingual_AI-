{
 "cells": [
  {
   "cell_type": "code",
   "execution_count": 3,
   "id": "e4f0adb3",
   "metadata": {},
   "outputs": [
    {
     "name": "stdout",
     "output_type": "stream",
     "text": [
      "🔍 Checking audio file...\n",
      "🎙️ Loading Whisper model...\n",
      "📝 Transcribing audio...\n"
     ]
    },
    {
     "name": "stderr",
     "output_type": "stream",
     "text": [
      "C:\\Users\\hsd98\\AppData\\Roaming\\Python\\Python312\\site-packages\\whisper\\transcribe.py:126: UserWarning: FP16 is not supported on CPU; using FP32 instead\n",
      "  warnings.warn(\"FP16 is not supported on CPU; using FP32 instead\")\n"
     ]
    },
    {
     "name": "stdout",
     "output_type": "stream",
     "text": [
      "✅ Full Result: {'text': ' Rhea had no cake on her birthday. She felt sad. Her little brother drew a cake on paper. When she saw this, she felt very happy.', 'segments': [{'id': 0, 'seek': 0, 'start': 0.0, 'end': 6.8, 'text': ' Rhea had no cake on her birthday. She felt sad. Her little brother drew a cake on paper.', 'tokens': [50364, 497, 27799, 632, 572, 5908, 322, 720, 6154, 13, 1240, 2762, 4227, 13, 3204, 707, 3708, 12804, 257, 5908, 322, 3035, 13, 50704], 'temperature': 0.0, 'avg_logprob': -0.20141316748954155, 'compression_ratio': 1.2190476190476192, 'no_speech_prob': 0.1239473819732666}, {'id': 1, 'seek': 0, 'start': 6.8, 'end': 9.68, 'text': ' When she saw this, she felt very happy.', 'tokens': [50704, 1133, 750, 1866, 341, 11, 750, 2762, 588, 2055, 13, 50848], 'temperature': 0.0, 'avg_logprob': -0.20141316748954155, 'compression_ratio': 1.2190476190476192, 'no_speech_prob': 0.1239473819732666}], 'language': 'en'}\n",
      "📜 Transcript:  Rhea had no cake on her birthday. She felt sad. Her little brother drew a cake on paper. When she saw this, she felt very happy.\n"
     ]
    }
   ],
   "source": [
    "import whisper\n",
    "import os\n",
    "\n",
    "# Set audio file name\n",
    "filename = \"ai_project_audio.mp3\"\n",
    "\n",
    "# Step 1: Check if file exists\n",
    "print(\"🔍 Checking audio file...\")\n",
    "if not os.path.exists(filename):\n",
    "    print(f\"❌ File not found: {filename}\")\n",
    "    exit()\n",
    "\n",
    "# Step 2: Load Whisper model\n",
    "print(\"🎙️ Loading Whisper model...\")\n",
    "model = whisper.load_model(\"medium\")\n",
    "\n",
    "# Step 3: Transcribe with forced English\n",
    "print(\"📝 Transcribing audio...\")\n",
    "result = model.transcribe(filename, language=\"en\")\n",
    "\n",
    "# Step 4: Output the result\n",
    "print(\"✅ Full Result:\", result)\n",
    "print(\"📜 Transcript:\", result[\"text\"])"
   ]
  },
  {
   "cell_type": "code",
   "execution_count": 4,
   "id": "b742141c",
   "metadata": {},
   "outputs": [
    {
     "name": "stdout",
     "output_type": "stream",
     "text": [
      "\n",
      "🌐 Translating to Hindi...\n",
      "🈶 Translated Text: रिया के जन्मदिन पर कोई केक नहीं था।वह दुखी महसूस कर रही थी।उसके छोटे भाई ने कागज पर एक केक खींचा।जब उसने यह देखा, तो उसे बहुत खुशी हुई।\n"
     ]
    }
   ],
   "source": [
    "from googletrans import Translator\n",
    "\n",
    "transcript = result[\"text\"]\n",
    "print(\"\\n🌐 Translating to Hindi...\")\n",
    "translator = Translator()\n",
    "translated = translator.translate(transcript, src='en', dest='hi')\n",
    "translated_text = translated.text\n",
    "print(\"🈶 Translated Text:\", translated_text)\n"
   ]
  },
  {
   "cell_type": "code",
   "execution_count": 5,
   "id": "083ac593",
   "metadata": {},
   "outputs": [
    {
     "name": "stdout",
     "output_type": "stream",
     "text": [
      "Loaded the voice encoder model on cpu in 0.03 seconds.\n",
      "Speaker embedding shape: (256,)\n"
     ]
    }
   ],
   "source": [
    "import librosa\n",
    "from resemblyzer import VoiceEncoder, preprocess_wav\n",
    "\n",
    "# Load MP3 using librosa\n",
    "wav_array, sr = librosa.load(filename, sr=None)\n",
    "wav = preprocess_wav(wav_array, source_sr=sr)\n",
    "\n",
    "# Embed the utterance\n",
    "encoder = VoiceEncoder()\n",
    "speaker_embedding = encoder.embed_utterance(wav)\n",
    "print(\"Speaker embedding shape:\", speaker_embedding.shape)\n"
   ]
  },
  {
   "cell_type": "code",
   "execution_count": 6,
   "id": "cdfa8d1a",
   "metadata": {},
   "outputs": [
    {
     "name": "stdout",
     "output_type": "stream",
     "text": [
      "Step 4 - Emotion embedding (approx): {'avg_pitch': 408.75398495630577, 'pitch_variance': 229220.76254593098, 'energy': 0.09959428012371063}\n"
     ]
    }
   ],
   "source": [
    "import librosa\n",
    "import numpy as np\n",
    "\n",
    "y, sr = librosa.load(filename)\n",
    "pitch = librosa.yin(y, fmin=librosa.note_to_hz('C2'), fmax=librosa.note_to_hz('C7'))\n",
    "energy = np.mean(librosa.feature.rms(y=y))\n",
    "\n",
    "emotion_embedding = {\n",
    "    \"avg_pitch\": float(np.mean(pitch)),\n",
    "    \"pitch_variance\": float(np.var(pitch)),\n",
    "    \"energy\": float(energy)\n",
    "}\n",
    "print(\"Step 4 - Emotion embedding (approx):\", emotion_embedding)\n"
   ]
  },
  {
   "cell_type": "code",
   "execution_count": 7,
   "id": "5bd12253",
   "metadata": {},
   "outputs": [
    {
     "name": "stdout",
     "output_type": "stream",
     "text": [
      "Step 5 - TTS done.\n"
     ]
    }
   ],
   "source": [
    "from gtts import gTTS\n",
    "from pydub import AudioSegment\n",
    "\n",
    "tts = gTTS(translated_text, lang=\"en\")  # target language\n",
    "tts.save(\"output_tts.mp3\")\n",
    "\n",
    "# Convert to .wav if needed\n",
    "AudioSegment.from_mp3(\"output_tts.mp3\").export(\"output_tts.wav\", format=\"wav\")\n",
    "print(\"Step 5 - TTS done.\")\n"
   ]
  }
 ],
 "metadata": {
  "kernelspec": {
   "display_name": "Python 3",
   "language": "python",
   "name": "python3"
  },
  "language_info": {
   "codemirror_mode": {
    "name": "ipython",
    "version": 3
   },
   "file_extension": ".py",
   "mimetype": "text/x-python",
   "name": "python",
   "nbconvert_exporter": "python",
   "pygments_lexer": "ipython3",
   "version": "3.12.1"
  }
 },
 "nbformat": 4,
 "nbformat_minor": 5
}
